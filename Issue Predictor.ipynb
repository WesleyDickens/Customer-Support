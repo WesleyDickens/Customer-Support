{
 "cells": [
  {
   "cell_type": "code",
   "execution_count": 1,
   "id": "ad2fe78b",
   "metadata": {},
   "outputs": [],
   "source": [
    "%run config.py\n",
    "\n",
    "data = pd.read_csv('Data/customer_support_tickets.csv')"
   ]
  },
  {
   "cell_type": "code",
   "execution_count": 5,
   "id": "d5647359",
   "metadata": {},
   "outputs": [
    {
     "data": {
      "text/plain": [
       "[('Billing inquiry', 0.7040000000000001),\n",
       " ('Cancellation request', 0.1625),\n",
       " ('Product inquiry', 0.07061904761904762),\n",
       " ('Technical issue', 0.03188095238095238),\n",
       " ('Refund request', 0.031)]"
      ]
     },
     "execution_count": 5,
     "metadata": {},
     "output_type": "execute_result"
    }
   ],
   "source": [
    "# Encode categorical variables\n",
    "le_gender = LabelEncoder()\n",
    "data['Customer Gender Encoded'] = le_gender.fit_transform(data['Customer Gender'])\n",
    "\n",
    "le_product = LabelEncoder()\n",
    "data['Product Purchased Encoded'] = le_product.fit_transform(data['Product Purchased'])\n",
    "\n",
    "le_ticket_type = LabelEncoder()\n",
    "data['Ticket Type Encoded'] = le_ticket_type.fit_transform(data['Ticket Type'])\n",
    "\n",
    "# Prepare features and target\n",
    "X = data[['Product Purchased Encoded', 'Customer Age', 'Customer Gender Encoded']]\n",
    "y = data['Ticket Type Encoded']\n",
    "\n",
    "# Split data into training and test sets\n",
    "X_train, X_test, y_train, y_test = train_test_split(X, y, test_size=0.2, random_state=42)\n",
    "\n",
    "# Initialize and train a simpler model for demonstration\n",
    "model = RandomForestClassifier(random_state=42, n_estimators=100)\n",
    "model.fit(X_train, y_train)\n",
    "\n",
    "# Define a simplified function for predicting and ranking issue types\n",
    "def predict_rank_issues_simple(product, age, gender):\n",
    "    product_encoded = le_product.transform([product])[0]\n",
    "    gender_encoded = le_gender.transform([gender])[0]\n",
    "    \n",
    "    # Predict probabilities\n",
    "    probabilities = model.predict_proba([[product_encoded, age, gender_encoded]])\n",
    "    \n",
    "    # Rank issue types by likelihood\n",
    "    issue_ranking = sorted(list(zip(le_ticket_type.classes_, probabilities[0])), key=lambda x: x[1], reverse=True)\n",
    "    \n",
    "    return issue_ranking\n",
    "\n",
    "# Example: Predict and rank issues for a simplified combination of inputs\n",
    "example_product = \"LG Smart TV\"\n",
    "example_age = 30\n",
    "example_gender = \"Female\"\n",
    "\n",
    "issue_ranking_example = predict_rank_issues_simple(example_product, example_age, example_gender)\n",
    "\n",
    "issue_ranking_example\n"
   ]
  },
  {
   "cell_type": "code",
   "execution_count": 3,
   "id": "bc8659dc",
   "metadata": {},
   "outputs": [
    {
     "name": "stdout",
     "output_type": "stream",
     "text": [
      "              precision    recall  f1-score   support\n",
      "\n",
      "           0       0.20      0.18      0.19       357\n",
      "           1       0.17      0.18      0.17       327\n",
      "           2       0.17      0.18      0.18       316\n",
      "           3       0.20      0.23      0.22       345\n",
      "           4       0.24      0.22      0.23       349\n",
      "\n",
      "    accuracy                           0.20      1694\n",
      "   macro avg       0.20      0.20      0.20      1694\n",
      "weighted avg       0.20      0.20      0.20      1694\n",
      "\n"
     ]
    }
   ],
   "source": [
    "preds = model.predict(X_test)\n",
    "\n",
    "\n",
    "print(classification_report(y_test, preds))"
   ]
  },
  {
   "cell_type": "code",
   "execution_count": 9,
   "id": "933b21ed",
   "metadata": {
    "scrolled": false
   },
   "outputs": [
    {
     "name": "stdout",
     "output_type": "stream",
     "text": [
      "Product: GoPro Hero\n",
      "Likelihood of Issues: Technical issue: 87%, Billing inquiry: 10%, Refund request: 2%, Product inquiry: 1%, Cancellation request: 0%\n",
      "\n",
      "Product: LG Smart TV\n",
      "Likelihood of Issues: Technical issue: 67%, Product inquiry: 14%, Billing inquiry: 12%, Cancellation request: 7%, Refund request: 0%\n",
      "\n",
      "Product: Dell XPS\n",
      "Likelihood of Issues: Product inquiry: 33%, Refund request: 21%, Cancellation request: 19%, Billing inquiry: 17%, Technical issue: 10%\n",
      "\n",
      "Product: Microsoft Office\n",
      "Likelihood of Issues: Billing inquiry: 46%, Refund request: 41%, Product inquiry: 9%, Technical issue: 3%, Cancellation request: 1%\n",
      "\n",
      "Product: Autodesk AutoCAD\n",
      "Likelihood of Issues: Cancellation request: 49%, Refund request: 25%, Billing inquiry: 17%, Technical issue: 9%, Product inquiry: 0%\n",
      "\n",
      "Product: Microsoft Surface\n",
      "Likelihood of Issues: Product inquiry: 67%, Refund request: 19%, Billing inquiry: 10%, Technical issue: 2%, Cancellation request: 1%\n",
      "\n",
      "Product: Philips Hue Lights\n",
      "Likelihood of Issues: Cancellation request: 45%, Refund request: 43%, Product inquiry: 5%, Billing inquiry: 3%, Technical issue: 3%\n",
      "\n",
      "Product: Fitbit Versa Smartwatch\n",
      "Likelihood of Issues: Refund request: 46%, Technical issue: 36%, Billing inquiry: 10%, Cancellation request: 7%, Product inquiry: 1%\n",
      "\n",
      "Product: Dyson Vacuum Cleaner\n",
      "Likelihood of Issues: Product inquiry: 50%, Technical issue: 27%, Refund request: 13%, Billing inquiry: 7%, Cancellation request: 4%\n",
      "\n",
      "Product: Nintendo Switch\n",
      "Likelihood of Issues: Cancellation request: 52%, Billing inquiry: 36%, Product inquiry: 10%, Technical issue: 2%, Refund request: 0%\n",
      "\n",
      "Product: Microsoft Xbox Controller\n",
      "Likelihood of Issues: Product inquiry: 46%, Refund request: 23%, Billing inquiry: 17%, Cancellation request: 13%, Technical issue: 1%\n",
      "\n",
      "Product: Nintendo Switch Pro Controller\n",
      "Likelihood of Issues: Billing inquiry: 74%, Cancellation request: 11%, Refund request: 6%, Product inquiry: 5%, Technical issue: 4%\n",
      "\n",
      "Product: Nest Thermostat\n",
      "Likelihood of Issues: Billing inquiry: 68%, Product inquiry: 16%, Cancellation request: 12%, Refund request: 4%, Technical issue: 0%\n",
      "\n",
      "Product: Sony PlayStation\n",
      "Likelihood of Issues: Cancellation request: 60%, Technical issue: 26%, Billing inquiry: 11%, Refund request: 3%, Product inquiry: 0%\n",
      "\n",
      "Product: GoPro Action Camera\n",
      "Likelihood of Issues: Technical issue: 47%, Billing inquiry: 40%, Cancellation request: 12%, Product inquiry: 0%, Refund request: 0%\n",
      "\n",
      "Product: Xbox\n",
      "Likelihood of Issues: Technical issue: 69%, Product inquiry: 14%, Refund request: 13%, Cancellation request: 4%, Billing inquiry: 0%\n",
      "\n",
      "Product: LG Washing Machine\n",
      "Likelihood of Issues: Billing inquiry: 47%, Technical issue: 44%, Product inquiry: 8%, Refund request: 1%, Cancellation request: 0%\n",
      "\n",
      "Product: Canon EOS\n",
      "Likelihood of Issues: Cancellation request: 33%, Billing inquiry: 32%, Product inquiry: 30%, Technical issue: 4%, Refund request: 1%\n",
      "\n",
      "Product: HP Pavilion\n",
      "Likelihood of Issues: Technical issue: 46%, Billing inquiry: 44%, Product inquiry: 6%, Cancellation\n"
     ]
    }
   ],
   "source": [
    "example_age = 45\n",
    "example_gender = \"Male\"\n",
    "\n",
    "output_formatted = []\n",
    "\n",
    "unique_products = data['Product Purchased'].unique()\n",
    "\n",
    "for product in unique_products:\n",
    "    ranking = predict_rank_issues_simple(product, example_age, example_gender)\n",
    "    formatted_ranking = ', '.join([f\"{issue}: {prob*100:.0f}%\" for issue, prob in ranking])\n",
    "    output_formatted.append(f\"Product: {product}\\nLikelihood of Issues: {formatted_ranking}\\n\")\n",
    "\n",
    "output_report = \"\\n\".join(output_formatted)\n",
    "\n",
    "print(output_report[:3000])  # Displaying a smaller portion\n"
   ]
  },
  {
   "cell_type": "code",
   "execution_count": null,
   "id": "8c729e31",
   "metadata": {},
   "outputs": [],
   "source": []
  }
 ],
 "metadata": {
  "kernelspec": {
   "display_name": "Python 3 (ipykernel)",
   "language": "python",
   "name": "python3"
  },
  "language_info": {
   "codemirror_mode": {
    "name": "ipython",
    "version": 3
   },
   "file_extension": ".py",
   "mimetype": "text/x-python",
   "name": "python",
   "nbconvert_exporter": "python",
   "pygments_lexer": "ipython3",
   "version": "3.11.5"
  }
 },
 "nbformat": 4,
 "nbformat_minor": 5
}
