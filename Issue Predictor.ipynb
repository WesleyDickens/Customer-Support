{
 "cells": [
  {
   "cell_type": "code",
   "execution_count": 27,
   "id": "ad2fe78b",
   "metadata": {},
   "outputs": [],
   "source": [
    "%run config.py\n",
    "\n",
    "data = pd.read_csv('Data/customer_support_tickets.csv')"
   ]
  },
  {
   "cell_type": "code",
   "execution_count": 42,
   "id": "d5647359",
   "metadata": {},
   "outputs": [
    {
     "data": {
      "text/plain": [
       "[('Technical issue', 0.49233333333333335),\n",
       " ('Product inquiry', 0.4626666666666667),\n",
       " ('Billing inquiry', 0.035),\n",
       " ('Cancellation request', 0.01),\n",
       " ('Refund request', 0.0)]"
      ]
     },
     "execution_count": 42,
     "metadata": {},
     "output_type": "execute_result"
    }
   ],
   "source": [
    "# Encode categorical variables\n",
    "le_gender = LabelEncoder()\n",
    "data['Customer Gender Encoded'] = le_gender.fit_transform(data['Customer Gender'])\n",
    "\n",
    "le_product = LabelEncoder()\n",
    "data['Product Purchased Encoded'] = le_product.fit_transform(data['Product Purchased'])\n",
    "\n",
    "le_ticket_type = LabelEncoder()\n",
    "data['Ticket Type Encoded'] = le_ticket_type.fit_transform(data['Ticket Type'])\n",
    "\n",
    "# Prepare features and target\n",
    "X = data[['Product Purchased Encoded', 'Customer Age', 'Customer Gender Encoded']]\n",
    "y = data['Ticket Type Encoded']\n",
    "\n",
    "# Split data into training and test sets\n",
    "X_train, X_test, y_train, y_test = train_test_split(X, y, test_size=0.2, random_state=42)\n",
    "\n",
    "# Initialize and train a simpler model for demonstration\n",
    "model = RandomForestClassifier(random_state=42, n_estimators=100)  # Reduced n_estimators for simplicity\n",
    "model.fit(X_train, y_train)\n",
    "\n",
    "# Define a simplified function for predicting and ranking issue types\n",
    "def predict_rank_issues_simple(product, age, gender):\n",
    "    product_encoded = le_product.transform([product])[0]\n",
    "    gender_encoded = le_gender.transform([gender])[0]\n",
    "    \n",
    "    # Predict probabilities\n",
    "    probabilities = model.predict_proba([[product_encoded, age, gender_encoded]])\n",
    "    \n",
    "    # Rank issue types by likelihood\n",
    "    issue_ranking = sorted(list(zip(le_ticket_type.classes_, probabilities[0])), key=lambda x: x[1], reverse=True)\n",
    "    \n",
    "    return issue_ranking\n",
    "\n",
    "# Example: Predict and rank issues for a simplified combination of inputs\n",
    "example_product = \"LG Smart TV\"\n",
    "example_age = 3\n",
    "example_gender = \"Female\"\n",
    "issue_ranking_example = predict_rank_issues_simple(example_product, example_age, example_gender)\n",
    "\n",
    "issue_ranking_example\n"
   ]
  },
  {
   "cell_type": "code",
   "execution_count": 43,
   "id": "bc8659dc",
   "metadata": {},
   "outputs": [
    {
     "name": "stdout",
     "output_type": "stream",
     "text": [
      "              precision    recall  f1-score   support\n",
      "\n",
      "           0       0.20      0.18      0.19       357\n",
      "           1       0.17      0.18      0.17       327\n",
      "           2       0.17      0.18      0.18       316\n",
      "           3       0.20      0.23      0.22       345\n",
      "           4       0.24      0.22      0.23       349\n",
      "\n",
      "    accuracy                           0.20      1694\n",
      "   macro avg       0.20      0.20      0.20      1694\n",
      "weighted avg       0.20      0.20      0.20      1694\n",
      "\n"
     ]
    }
   ],
   "source": [
    "preds = model.predict(X_test)\n",
    "\n",
    "\n",
    "print(classification_report(y_test, preds))"
   ]
  },
  {
   "cell_type": "code",
   "execution_count": 39,
   "id": "933b21ed",
   "metadata": {
    "scrolled": false
   },
   "outputs": [
    {
     "name": "stdout",
     "output_type": "stream",
     "text": [
      "Product: GoPro Hero\n",
      "Likelihood of Issues: Billing inquiry: 46%, Product inquiry: 28%, Refund request: 25%, Technical issue: 2%, Cancellation request: 0%\n",
      "\n",
      "Product: LG Smart TV\n",
      "Likelihood of Issues: Technical issue: 49%, Product inquiry: 46%, Billing inquiry: 4%, Cancellation request: 1%, Refund request: 0%\n",
      "\n",
      "Product: Dell XPS\n",
      "Likelihood of Issues: Billing inquiry: 88%, Refund request: 6%, Technical issue: 3%, Product inquiry: 3%, Cancellation request: 0%\n",
      "\n",
      "Product: Microsoft Office\n",
      "Likelihood of Issues: Product inquiry: 45%, Technical issue: 45%, Cancellation request: 5%, Billing inquiry: 3%, Refund request: 2%\n",
      "\n",
      "Product: Autodesk AutoCAD\n",
      "Likelihood of Issues: Technical issue: 48%, Cancellation request: 26%, Billing inquiry: 25%, Product inquiry: 0%, Refund request: 0%\n",
      "\n",
      "Product: Microsoft Surface\n",
      "Likelihood of Issues: Product inquiry: 57%, Technical issue: 19%, Cancellation request: 17%, Refund request: 4%, Billing inquiry: 3%\n",
      "\n",
      "Product: Philips Hue Lights\n",
      "Likelihood of Issues: Billing inquiry: 83%, Cancellation request: 13%, Technical issue: 4%, Product inquiry: 0%, Refund request: 0%\n",
      "\n",
      "Product: Fitbit Versa Smartwatch\n",
      "Likelihood of Issues: Cancellation request: 68%, Product inquiry: 20%, Technical issue: 8%, Billing inquiry: 4%, Refund request: 0%\n",
      "\n",
      "Product: Dyson Vacuum Cleaner\n",
      "Likelihood of Issues: Technical issue: 51%, Product inquiry: 39%, Billing inquiry: 10%, Refund request: 0%, Cancellation request: 0%\n",
      "\n",
      "Product: Nintendo Switch\n",
      "Likelihood of Issues: Cancellation request: 62%, Billing inquiry: 32%, Product inquiry: 5%, Technical issue: 2%, Refund request: 0%\n",
      "\n",
      "Product: Microsoft Xbox Controller\n",
      "Likelihood of Issues: Product inquiry: 61%, Cancellation request: 24%, Billing inquiry: 9%, Technical issue: 6%, Refund request: 0%\n",
      "\n",
      "Product: Nintendo Switch Pro Controller\n",
      "Likelihood of Issues: Billing inquiry: 86%, Cancellation request: 8%, Technical issue: 4%, Product inquiry: 1%, Refund request: 0%\n",
      "\n",
      "Product: Nest Thermostat\n",
      "Likelihood of Issues: Product inquiry: 56%, Cancellation request: 27%, Billing inquiry: 11%, Refund request: 3%, Technical issue: 2%\n",
      "\n",
      "Product: Sony PlayStation\n",
      "Likelihood of Issues: Technical issue: 66%, Refund request: 30%, Cancellation request: 2%, Billing inquiry: 1%, Product inquiry: 0%\n",
      "\n",
      "Product: GoPro Action Camera\n",
      "Likelihood of Issues: Product inquiry: 59%, Technical issue: 35%, Billing inquiry: 5%, Refund request: 1%, Cancellation request: 0%\n",
      "\n",
      "Product: Xbox\n",
      "Likelihood of Issues: Refund request: 73%, Technical issue: 12%, Cancellation request: 9%, Product inquiry: 6%, Billing inquiry: 0%\n",
      "\n",
      "Product: LG Washing Machine\n",
      "Likelihood of Issues: Technical issue: 78%, Product inquiry: 16%, Billing inquiry: 3%, Cancellation request: 2%, Refund request: 1%\n",
      "\n",
      "Product: Canon EOS\n",
      "Likelihood of Issues: Billing inquiry: 85%, Product inquiry: 12%, Cancellation request: 2%, Technical issue: 1%, Refund request: 0%\n",
      "\n",
      "Product: HP Pavilion\n",
      "Likelihood of Issues: Billing inquiry: 91%, Refund request: 4%, Technical issue: 3%, Product inquiry: 2%, Cancel\n"
     ]
    }
   ],
   "source": [
    "output_formatted = []\n",
    "\n",
    "unique_products = data['Product Purchased'].unique()\n",
    "\n",
    "for product in unique_products:\n",
    "    ranking = predict_rank_issues_simple(product, example_age, example_gender)\n",
    "    formatted_ranking = ', '.join([f\"{issue}: {prob*100:.0f}%\" for issue, prob in ranking])\n",
    "    output_formatted.append(f\"Product: {product}\\nLikelihood of Issues: {formatted_ranking}\\n\")\n",
    "\n",
    "# Joining all formatted outputs with a separator for readability\n",
    "output_report = \"\\n\".join(output_formatted)\n",
    "\n",
    "print(output_report[:3000])  # Displaying a portion for brevity\n"
   ]
  },
  {
   "cell_type": "code",
   "execution_count": null,
   "id": "8c729e31",
   "metadata": {},
   "outputs": [],
   "source": []
  }
 ],
 "metadata": {
  "kernelspec": {
   "display_name": "Python 3 (ipykernel)",
   "language": "python",
   "name": "python3"
  },
  "language_info": {
   "codemirror_mode": {
    "name": "ipython",
    "version": 3
   },
   "file_extension": ".py",
   "mimetype": "text/x-python",
   "name": "python",
   "nbconvert_exporter": "python",
   "pygments_lexer": "ipython3",
   "version": "3.11.5"
  }
 },
 "nbformat": 4,
 "nbformat_minor": 5
}
